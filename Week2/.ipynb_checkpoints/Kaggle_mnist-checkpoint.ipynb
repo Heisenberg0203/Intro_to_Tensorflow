{
 "cells": [
  {
   "cell_type": "code",
   "execution_count": 92,
   "metadata": {},
   "outputs": [],
   "source": [
    "import tensorflow as tf\n",
    "import numpy as np\n",
    "import pandas as pd"
   ]
  },
  {
   "cell_type": "code",
   "execution_count": 93,
   "metadata": {},
   "outputs": [],
   "source": [
    "training=pd.read_csv('kaggle_mnist/train.csv')"
   ]
  },
  {
   "cell_type": "code",
   "execution_count": 94,
   "metadata": {},
   "outputs": [],
   "source": [
    "training_labels=training['label'].values\n",
    "training_images=training.drop('label',axis=1).values"
   ]
  },
  {
   "cell_type": "code",
   "execution_count": 95,
   "metadata": {},
   "outputs": [],
   "source": [
    "testing=pd.read_csv('kaggle_mnist/test.csv')\n",
    "testing_images=testing.values"
   ]
  },
  {
   "cell_type": "code",
   "execution_count": 96,
   "metadata": {},
   "outputs": [
    {
     "name": "stdout",
     "output_type": "stream",
     "text": [
      "Train on 42000 samples\n",
      "Epoch 1/27\n",
      "42000/42000 [==============================] - 3s 68us/sample - loss: 0.2531 - accuracy: 0.9236s - loss: 0.2636 - accura\n",
      "Epoch 2/27\n",
      "42000/42000 [==============================] - 3s 63us/sample - loss: 0.1057 - accuracy: 0.9665\n",
      "Epoch 3/27\n",
      "42000/42000 [==============================] - 3s 61us/sample - loss: 0.0706 - accuracy: 0.9780\n",
      "Epoch 4/27\n",
      "42000/42000 [==============================] - 3s 61us/sample - loss: 0.0559 - accuracy: 0.9812\n",
      "Epoch 5/27\n",
      "42000/42000 [==============================] - 3s 64us/sample - loss: 0.0426 - accuracy: 0.9860\n",
      "Epoch 6/27\n",
      "42000/42000 [==============================] - 3s 62us/sample - loss: 0.0356 - accuracy: 0.9877\n",
      "Epoch 7/27\n",
      "42000/42000 [==============================] - 3s 65us/sample - loss: 0.0294 - accuracy: 0.9899\n",
      "Epoch 8/27\n",
      "42000/42000 [==============================] - 3s 68us/sample - loss: 0.0262 - accuracy: 0.9916\n",
      "Epoch 9/27\n",
      "42000/42000 [==============================] - 3s 63us/sample - loss: 0.0207 - accuracy: 0.9935\n",
      "Epoch 10/27\n",
      "42000/42000 [==============================] - 3s 62us/sample - loss: 0.0207 - accuracy: 0.9927s -\n",
      "Epoch 11/27\n",
      "42000/42000 [==============================] - 3s 61us/sample - loss: 0.0169 - accuracy: 0.9941\n",
      "Epoch 12/27\n",
      "42000/42000 [==============================] - 3s 62us/sample - loss: 0.0165 - accuracy: 0.9947\n",
      "Epoch 13/27\n",
      "42000/42000 [==============================] - 3s 63us/sample - loss: 0.0161 - accuracy: 0.9952\n",
      "Epoch 14/27\n",
      "42000/42000 [==============================] - 3s 62us/sample - loss: 0.0147 - accuracy: 0.9950\n",
      "Epoch 15/27\n",
      "42000/42000 [==============================] - 3s 61us/sample - loss: 0.0157 - accuracy: 0.9949\n",
      "Epoch 16/27\n",
      "42000/42000 [==============================] - 3s 63us/sample - loss: 0.0096 - accuracy: 0.9969\n",
      "Epoch 17/27\n",
      "42000/42000 [==============================] - 3s 66us/sample - loss: 0.0149 - accuracy: 0.9955\n",
      "Epoch 18/27\n",
      "42000/42000 [==============================] - 3s 61us/sample - loss: 0.0097 - accuracy: 0.9970\n",
      "Epoch 19/27\n",
      "42000/42000 [==============================] - 3s 64us/sample - loss: 0.0120 - accuracy: 0.9963\n",
      "Epoch 20/27\n",
      "42000/42000 [==============================] - 3s 63us/sample - loss: 0.0142 - accuracy: 0.9959\n",
      "Epoch 21/27\n",
      "42000/42000 [==============================] - 3s 62us/sample - loss: 0.0093 - accuracy: 0.9972\n",
      "Epoch 22/27\n",
      "42000/42000 [==============================] - 3s 63us/sample - loss: 0.0120 - accuracy: 0.9963\n",
      "Epoch 23/27\n",
      "42000/42000 [==============================] - 3s 62us/sample - loss: 0.0098 - accuracy: 0.9973\n",
      "Epoch 24/27\n",
      "42000/42000 [==============================] - 3s 66us/sample - loss: 0.0103 - accuracy: 0.9971\n",
      "Epoch 25/27\n",
      "42000/42000 [==============================] - 3s 63us/sample - loss: 0.0100 - accuracy: 0.9970\n",
      "Epoch 26/27\n",
      "42000/42000 [==============================] - 3s 63us/sample - loss: 0.0136 - accuracy: 0.9965\n",
      "Epoch 27/27\n",
      "42000/42000 [==============================] - 3s 64us/sample - loss: 0.0081 - accuracy: 0.9977\n"
     ]
    },
    {
     "data": {
      "text/plain": [
       "<tensorflow.python.keras.callbacks.History at 0x2071f133cc8>"
      ]
     },
     "execution_count": 96,
     "metadata": {},
     "output_type": "execute_result"
    }
   ],
   "source": [
    "training_images = training_images/255.0\n",
    "\n",
    "model = tf.keras.models.Sequential([tf.keras.layers.Flatten(),\n",
    "                                    tf.keras.layers.Dense(128, activation=tf.nn.relu),\n",
    "                                    tf.keras.layers.Dense(512, activation=tf.nn.relu),\n",
    "                                    tf.keras.layers.Dense(10, activation=tf.nn.softmax)])\n",
    "\n",
    "model.compile(optimizer = 'adam',\n",
    "              loss = 'sparse_categorical_crossentropy',metrics=['accuracy'])\n",
    "\n",
    "model.fit(training_images, training_labels, epochs=27)\n"
   ]
  },
  {
   "cell_type": "code",
   "execution_count": 97,
   "metadata": {},
   "outputs": [],
   "source": [
    "predict=pd.Series(np.argmax(model.predict(testing_images/255.0),axis=1))"
   ]
  },
  {
   "cell_type": "code",
   "execution_count": 98,
   "metadata": {},
   "outputs": [],
   "source": [
    "predict = pd.DataFrame(predict)"
   ]
  },
  {
   "cell_type": "code",
   "execution_count": 99,
   "metadata": {},
   "outputs": [],
   "source": [
    "predict['Label']=predict[0]"
   ]
  },
  {
   "cell_type": "code",
   "execution_count": 100,
   "metadata": {},
   "outputs": [],
   "source": [
    "predict=predict.reset_index().drop(0,axis=1)\n",
    "predict['index']=predict['index']+1"
   ]
  },
  {
   "cell_type": "code",
   "execution_count": 101,
   "metadata": {},
   "outputs": [],
   "source": [
    "predict['ImageId']=predict['index']\n",
    "predict.drop('index',axis=1,inplace=True)"
   ]
  },
  {
   "cell_type": "code",
   "execution_count": 102,
   "metadata": {},
   "outputs": [],
   "source": [
    "predict.set_index('ImageId',inplace=True)"
   ]
  },
  {
   "cell_type": "code",
   "execution_count": 103,
   "metadata": {},
   "outputs": [],
   "source": [
    "predict.to_csv('kaggle_mnist/outputwith128_512neurons.csv')"
   ]
  },
  {
   "cell_type": "code",
   "execution_count": null,
   "metadata": {},
   "outputs": [],
   "source": []
  },
  {
   "cell_type": "code",
   "execution_count": null,
   "metadata": {},
   "outputs": [],
   "source": []
  }
 ],
 "metadata": {
  "kernelspec": {
   "display_name": "Python 3",
   "language": "python",
   "name": "python3"
  },
  "language_info": {
   "codemirror_mode": {
    "name": "ipython",
    "version": 3
   },
   "file_extension": ".py",
   "mimetype": "text/x-python",
   "name": "python",
   "nbconvert_exporter": "python",
   "pygments_lexer": "ipython3",
   "version": "3.7.4"
  }
 },
 "nbformat": 4,
 "nbformat_minor": 2
}
