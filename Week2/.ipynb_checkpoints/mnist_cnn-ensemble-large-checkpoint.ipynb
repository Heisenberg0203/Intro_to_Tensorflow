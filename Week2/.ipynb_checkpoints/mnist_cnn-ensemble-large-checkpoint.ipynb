{
 "cells": [
  {
   "cell_type": "code",
   "execution_count": 1,
   "metadata": {},
   "outputs": [
    {
     "name": "stderr",
     "output_type": "stream",
     "text": [
      "Using TensorFlow backend.\n"
     ]
    }
   ],
   "source": [
    "import pandas as pd\n",
    "import numpy as np\n",
    "import keras\n",
    "from keras.applications.vgg16 import VGG16\n",
    "from keras.applications.vgg19 import VGG19\n",
    "from keras.applications.mobilenet import MobileNet\n",
    "from keras.preprocessing import image\n",
    "from keras.applications.vgg16 import preprocess_input, decode_predictions\n",
    "from keras.layers import Dense, Activation, Flatten, merge,Input\n",
    "from keras.models import Model, Sequential\n",
    "from keras.utils import np_utils\n",
    "from keras import backend as K\n",
    "from keras.layers import *\n",
    "from keras.callbacks import *\n",
    "import os\n",
    "import glob\n",
    "import tensorflow as tf"
   ]
  },
  {
   "cell_type": "code",
   "execution_count": 2,
   "metadata": {},
   "outputs": [],
   "source": [
    "training=pd.read_csv('kaggle_mnist/train.csv')"
   ]
  },
  {
   "cell_type": "code",
   "execution_count": 3,
   "metadata": {},
   "outputs": [],
   "source": [
    "training_labels=training['label'].values\n",
    "training_images=training.drop('label',axis=1).values"
   ]
  },
  {
   "cell_type": "code",
   "execution_count": 102,
   "metadata": {},
   "outputs": [],
   "source": [
    "testing=pd.read_csv('kaggle_mnist/test.csv')\n",
    "testing_images=testing.values\n",
    "testing_images=testing_images.reshape(28000,28,28,1)/255.0"
   ]
  },
  {
   "cell_type": "code",
   "execution_count": 5,
   "metadata": {},
   "outputs": [],
   "source": [
    "training_images = training_images/255.0\n"
   ]
  },
  {
   "cell_type": "code",
   "execution_count": 89,
   "metadata": {},
   "outputs": [],
   "source": [
    "from tensorflow.keras import datasets, layers, models\n",
    "model1 = models.Sequential()\n",
    "model1.add(layers.Conv2D(128, (3, 3), activation='relu', input_shape=(28,28,1)))\n",
    "model1.add(layers.MaxPooling2D((2, 2)))\n",
    "model1.add(layers.Conv2D(128, (3, 3), activation='relu'))\n",
    "model1.add(layers.MaxPooling2D((2, 2)))\n",
    "model1.add(layers.Flatten())\n",
    "model1.add(layers.Dense(256, activation='relu'))\n",
    "model1.add(layers.Dense(10,activation=tf.nn.softmax))"
   ]
  },
  {
   "cell_type": "code",
   "execution_count": 90,
   "metadata": {},
   "outputs": [],
   "source": [
    "from tensorflow.keras import datasets, layers, models\n",
    "model2 = models.Sequential()\n",
    "model2.add(layers.Conv2D(256, (3, 3), activation='relu', input_shape=(28,28,1)))\n",
    "model2.add(layers.MaxPooling2D((2, 2)))\n",
    "model2.add(layers.Conv2D(256, (3, 3), activation='relu'))\n",
    "model2.add(layers.MaxPooling2D((2, 2)))\n",
    "model2.add(layers.Flatten())\n",
    "model2.add(layers.Dense(256, activation='relu'))\n",
    "model2.add(layers.Dense(10,activation=tf.nn.softmax))"
   ]
  },
  {
   "cell_type": "code",
   "execution_count": 91,
   "metadata": {},
   "outputs": [],
   "source": [
    "from tensorflow.keras import datasets, layers, models\n",
    "model3 = models.Sequential()\n",
    "model3.add(layers.Conv2D(128, (3, 3), activation='relu', input_shape=(28,28,1)))\n",
    "model3.add(layers.MaxPooling2D((2, 2)))\n",
    "model3.add(layers.Conv2D(128, (3, 3), activation='relu'))\n",
    "model3.add(layers.MaxPooling2D((2, 2)))\n",
    "model3.add(layers.Flatten())\n",
    "model3.add(layers.Dense(128, activation='relu'))\n",
    "model3.add(layers.Dense(10,activation=tf.nn.softmax))"
   ]
  },
  {
   "cell_type": "code",
   "execution_count": 92,
   "metadata": {},
   "outputs": [],
   "source": [
    "training_images=training_images.reshape(42000,28,28,1)"
   ]
  },
  {
   "cell_type": "code",
   "execution_count": 93,
   "metadata": {},
   "outputs": [
    {
     "name": "stdout",
     "output_type": "stream",
     "text": [
      "Train on 42000 samples\n",
      "Epoch 1/30\n",
      "42000/42000 [==============================] - 6s 140us/sample - loss: 0.1261 - accuracy: 0.9620\n",
      "Epoch 2/30\n",
      "42000/42000 [==============================] - 6s 134us/sample - loss: 0.0395 - accuracy: 0.9871\n",
      "Epoch 3/30\n",
      "42000/42000 [==============================] - 6s 132us/sample - loss: 0.0265 - accuracy: 0.9915\n",
      "Epoch 4/30\n",
      "42000/42000 [==============================] - 6s 132us/sample - loss: 0.0192 - accuracy: 0.9939\n",
      "Epoch 5/30\n",
      "42000/42000 [==============================] - 6s 136us/sample - loss: 0.0159 - accuracy: 0.9948\n",
      "Epoch 6/30\n",
      "42000/42000 [==============================] - 6s 134us/sample - loss: 0.0104 - accuracy: 0.9965\n",
      "Epoch 7/30\n",
      "42000/42000 [==============================] - 6s 135us/sample - loss: 0.0108 - accuracy: 0.9967\n",
      "Epoch 8/30\n",
      "42000/42000 [==============================] - 6s 134us/sample - loss: 0.0074 - accuracy: 0.9973\n",
      "Epoch 9/30\n",
      "42000/42000 [==============================] - 6s 136us/sample - loss: 0.0063 - accuracy: 0.9978\n",
      "Epoch 10/30\n",
      "42000/42000 [==============================] - 6s 134us/sample - loss: 0.0067 - accuracy: 0.9979\n",
      "Epoch 11/30\n",
      "42000/42000 [==============================] - 6s 134us/sample - loss: 0.0061 - accuracy: 0.9981\n",
      "Epoch 12/30\n",
      "42000/42000 [==============================] - 6s 135us/sample - loss: 0.0048 - accuracy: 0.9984\n",
      "Epoch 13/30\n",
      "42000/42000 [==============================] - 6s 138us/sample - loss: 0.0051 - accuracy: 0.9985\n",
      "Epoch 14/30\n",
      "42000/42000 [==============================] - 6s 134us/sample - loss: 0.0046 - accuracy: 0.9986\n",
      "Epoch 15/30\n",
      "42000/42000 [==============================] - ETA: 0s - loss: 0.0047 - accuracy: 0.99 - 6s 138us/sample - loss: 0.0047 - accuracy: 0.9984\n",
      "Epoch 16/30\n",
      "42000/42000 [==============================] - 6s 134us/sample - loss: 0.0030 - accuracy: 0.9991\n",
      "Epoch 17/30\n",
      "42000/42000 [==============================] - 6s 133us/sample - loss: 0.0063 - accuracy: 0.9981\n",
      "Epoch 18/30\n",
      "42000/42000 [==============================] - 7s 173us/sample - loss: 0.0032 - accuracy: 0.9990\n",
      "Epoch 19/30\n",
      "42000/42000 [==============================] - 7s 177us/sample - loss: 0.0048 - accuracy: 0.9988\n",
      "Epoch 20/30\n",
      "42000/42000 [==============================] - 6s 136us/sample - loss: 0.0016 - accuracy: 0.9995\n",
      "Epoch 21/30\n",
      "42000/42000 [==============================] - 5s 130us/sample - loss: 0.0051 - accuracy: 0.9986\n",
      "Epoch 22/30\n",
      "42000/42000 [==============================] - 5s 131us/sample - loss: 0.0018 - accuracy: 0.9994\n",
      "Epoch 23/30\n",
      "42000/42000 [==============================] - 6s 132us/sample - loss: 0.0056 - accuracy: 0.9983\n",
      "Epoch 24/30\n",
      "42000/42000 [==============================] - 6s 135us/sample - loss: 0.0022 - accuracy: 0.9994\n",
      "Epoch 25/30\n",
      "42000/42000 [==============================] - 6s 134us/sample - loss: 0.0024 - accuracy: 0.9993\n",
      "Epoch 26/30\n",
      "42000/42000 [==============================] - 6s 134us/sample - loss: 0.0048 - accuracy: 0.9990\n",
      "Epoch 27/30\n",
      "42000/42000 [==============================] - ETA: 0s - loss: 0.0032 - accuracy: 0.99 - 6s 137us/sample - loss: 0.0032 - accuracy: 0.9990\n",
      "Epoch 28/30\n",
      "42000/42000 [==============================] - 6s 136us/sample - loss: 0.0044 - accuracy: 0.9989\n",
      "Epoch 29/30\n",
      "42000/42000 [==============================] - 6s 133us/sample - loss: 0.0019 - accuracy: 0.9994\n",
      "Epoch 30/30\n",
      "42000/42000 [==============================] - 6s 133us/sample - loss: 0.0020 - accuracy: 0.9995\n"
     ]
    },
    {
     "data": {
      "text/plain": [
       "<tensorflow.python.keras.callbacks.History at 0x12419fb1988>"
      ]
     },
     "execution_count": 93,
     "metadata": {},
     "output_type": "execute_result"
    }
   ],
   "source": [
    "model1.compile(optimizer = 'adam',\n",
    "              loss = 'sparse_categorical_crossentropy',metrics=['accuracy'])\n",
    "\n",
    "model1.fit(training_images, training_labels, epochs=30)"
   ]
  },
  {
   "cell_type": "code",
   "execution_count": 69,
   "metadata": {},
   "outputs": [],
   "source": [
    "# predict=pd.Series(np.argmax(model.predict(testing_images.reshape(28000,28,28,1)/255.0),axis=1))\n",
    "# predict = pd.DataFrame(predict)\n",
    "# predict['Label']=predict[0]\n",
    "# predict=predict.reset_index().drop(0,axis=1)\n",
    "# predict['index']=predict['index']+1\n",
    "# predict['ImageId']=predict['index']\n",
    "# predict.drop('index',axis=1,inplace=True)\n",
    "# predict.set_index('ImageId',inplace=True)\n",
    "# predict.to_csv('kaggle_mnist/cnndropout.csv')"
   ]
  },
  {
   "cell_type": "code",
   "execution_count": 94,
   "metadata": {},
   "outputs": [
    {
     "name": "stdout",
     "output_type": "stream",
     "text": [
      "Train on 42000 samples\n",
      "Epoch 1/30\n",
      "42000/42000 [==============================] - 10s 227us/sample - loss: 0.1135 - accuracy: 0.9644\n",
      "Epoch 2/30\n",
      "42000/42000 [==============================] - 9s 226us/sample - loss: 0.0394 - accuracy: 0.9879\n",
      "Epoch 3/30\n",
      "42000/42000 [==============================] - 9s 214us/sample - loss: 0.0267 - accuracy: 0.9916\n",
      "Epoch 4/30\n",
      "42000/42000 [==============================] - 9s 222us/sample - loss: 0.0175 - accuracy: 0.9945\n",
      "Epoch 5/30\n",
      "42000/42000 [==============================] - 9s 212us/sample - loss: 0.0151 - accuracy: 0.9950\n",
      "Epoch 6/30\n",
      "42000/42000 [==============================] - 9s 212us/sample - loss: 0.0113 - accuracy: 0.9965\n",
      "Epoch 7/30\n",
      "42000/42000 [==============================] - 9s 211us/sample - loss: 0.0091 - accuracy: 0.9972\n",
      "Epoch 8/30\n",
      "42000/42000 [==============================] - 9s 212us/sample - loss: 0.0091 - accuracy: 0.9970\n",
      "Epoch 9/30\n",
      "42000/42000 [==============================] - 9s 212us/sample - loss: 0.0078 - accuracy: 0.9975\n",
      "Epoch 10/30\n",
      "42000/42000 [==============================] - 9s 216us/sample - loss: 0.0064 - accuracy: 0.9981\n",
      "Epoch 11/30\n",
      "42000/42000 [==============================] - 9s 210us/sample - loss: 0.0076 - accuracy: 0.9980\n",
      "Epoch 12/30\n",
      "42000/42000 [==============================] - 9s 207us/sample - loss: 0.0054 - accuracy: 0.9984\n",
      "Epoch 13/30\n",
      "42000/42000 [==============================] - 9s 208us/sample - loss: 0.0054 - accuracy: 0.9986\n",
      "Epoch 14/30\n",
      "42000/42000 [==============================] - 9s 204us/sample - loss: 0.0046 - accuracy: 0.9986\n",
      "Epoch 15/30\n",
      "42000/42000 [==============================] - 9s 205us/sample - loss: 0.0051 - accuracy: 0.9987\n",
      "Epoch 16/30\n",
      "42000/42000 [==============================] - 9s 205us/sample - loss: 0.0047 - accuracy: 0.9987\n",
      "Epoch 17/30\n",
      "42000/42000 [==============================] - 9s 203us/sample - loss: 0.0057 - accuracy: 0.9983\n",
      "Epoch 18/30\n",
      "42000/42000 [==============================] - 8s 202us/sample - loss: 0.0013 - accuracy: 0.9997\n",
      "Epoch 19/30\n",
      "42000/42000 [==============================] - 9s 203us/sample - loss: 0.0066 - accuracy: 0.9983\n",
      "Epoch 20/30\n",
      "42000/42000 [==============================] - 9s 204us/sample - loss: 0.0020 - accuracy: 0.9994\n",
      "Epoch 21/30\n",
      "42000/42000 [==============================] - 9s 204us/sample - loss: 0.0060 - accuracy: 0.9986\n",
      "Epoch 22/30\n",
      "42000/42000 [==============================] - 9s 204us/sample - loss: 0.0038 - accuracy: 0.9989\n",
      "Epoch 23/30\n",
      "42000/42000 [==============================] - 9s 203us/sample - loss: 0.0042 - accuracy: 0.9990\n",
      "Epoch 24/30\n",
      "42000/42000 [==============================] - 9s 203us/sample - loss: 0.0050 - accuracy: 0.9988\n",
      "Epoch 25/30\n",
      "42000/42000 [==============================] - 9s 203us/sample - loss: 0.0018 - accuracy: 0.9994\n",
      "Epoch 26/30\n",
      "42000/42000 [==============================] - 9s 204us/sample - loss: 0.0012 - accuracy: 0.9998\n",
      "Epoch 27/30\n",
      "42000/42000 [==============================] - 9s 204us/sample - loss: 0.0061 - accuracy: 0.9986\n",
      "Epoch 28/30\n",
      "42000/42000 [==============================] - 9s 203us/sample - loss: 0.0013 - accuracy: 0.9996\n",
      "Epoch 29/30\n",
      "42000/42000 [==============================] - 9s 203us/sample - loss: 0.0042 - accuracy: 0.9992\n",
      "Epoch 30/30\n",
      "42000/42000 [==============================] - 9s 203us/sample - loss: 0.0038 - accuracy: 0.9990\n"
     ]
    },
    {
     "data": {
      "text/plain": [
       "<tensorflow.python.keras.callbacks.History at 0x1241b32fbc8>"
      ]
     },
     "execution_count": 94,
     "metadata": {},
     "output_type": "execute_result"
    }
   ],
   "source": [
    "model2.compile(optimizer = 'adam',\n",
    "              loss = 'sparse_categorical_crossentropy',metrics=['accuracy'])\n",
    "\n",
    "model2.fit(training_images, training_labels, epochs=30)"
   ]
  },
  {
   "cell_type": "code",
   "execution_count": 95,
   "metadata": {},
   "outputs": [
    {
     "name": "stdout",
     "output_type": "stream",
     "text": [
      "Train on 42000 samples\n",
      "Epoch 1/30\n",
      "42000/42000 [==============================] - 6s 139us/sample - loss: 0.1268 - accuracy: 0.9615\n",
      "Epoch 2/30\n",
      "42000/42000 [==============================] - 5s 127us/sample - loss: 0.0433 - accuracy: 0.9859\n",
      "Epoch 3/30\n",
      "42000/42000 [==============================] - 5s 127us/sample - loss: 0.0287 - accuracy: 0.9906\n",
      "Epoch 4/30\n",
      "42000/42000 [==============================] - 5s 128us/sample - loss: 0.0203 - accuracy: 0.9933\n",
      "Epoch 5/30\n",
      "42000/42000 [==============================] - 5s 127us/sample - loss: 0.0128 - accuracy: 0.9959\n",
      "Epoch 6/30\n",
      "42000/42000 [==============================] - 5s 127us/sample - loss: 0.0128 - accuracy: 0.9958\n",
      "Epoch 7/30\n",
      "42000/42000 [==============================] - 5s 127us/sample - loss: 0.0089 - accuracy: 0.9969\n",
      "Epoch 8/30\n",
      "42000/42000 [==============================] - 5s 128us/sample - loss: 0.0087 - accuracy: 0.9973\n",
      "Epoch 9/30\n",
      "42000/42000 [==============================] - 5s 127us/sample - loss: 0.0085 - accuracy: 0.9973\n",
      "Epoch 10/30\n",
      "42000/42000 [==============================] - 5s 129us/sample - loss: 0.0068 - accuracy: 0.9979\n",
      "Epoch 11/30\n",
      "42000/42000 [==============================] - 5s 127us/sample - loss: 0.0050 - accuracy: 0.9985\n",
      "Epoch 12/30\n",
      "42000/42000 [==============================] - 5s 126us/sample - loss: 0.0063 - accuracy: 0.9979\n",
      "Epoch 13/30\n",
      "42000/42000 [==============================] - 5s 127us/sample - loss: 0.0023 - accuracy: 0.9993\n",
      "Epoch 14/30\n",
      "42000/42000 [==============================] - 5s 127us/sample - loss: 0.0073 - accuracy: 0.9975\n",
      "Epoch 15/30\n",
      "42000/42000 [==============================] - 6s 136us/sample - loss: 0.0066 - accuracy: 0.9981\n",
      "Epoch 16/30\n",
      "42000/42000 [==============================] - 5s 127us/sample - loss: 0.0039 - accuracy: 0.9988\n",
      "Epoch 17/30\n",
      "42000/42000 [==============================] - 5s 127us/sample - loss: 0.0022 - accuracy: 0.9993\n",
      "Epoch 18/30\n",
      "42000/42000 [==============================] - 5s 127us/sample - loss: 0.0030 - accuracy: 0.9993\n",
      "Epoch 19/30\n",
      "42000/42000 [==============================] - 5s 128us/sample - loss: 0.0060 - accuracy: 0.9984\n",
      "Epoch 20/30\n",
      "42000/42000 [==============================] - 5s 127us/sample - loss: 0.0027 - accuracy: 0.9992\n",
      "Epoch 21/30\n",
      "42000/42000 [==============================] - 5s 127us/sample - loss: 0.0037 - accuracy: 0.9992\n",
      "Epoch 22/30\n",
      "42000/42000 [==============================] - 5s 127us/sample - loss: 0.0045 - accuracy: 0.9986\n",
      "Epoch 23/30\n",
      "42000/42000 [==============================] - 5s 127us/sample - loss: 0.0025 - accuracy: 0.9993\n",
      "Epoch 24/30\n",
      "42000/42000 [==============================] - 5s 126us/sample - loss: 0.0043 - accuracy: 0.9988\n",
      "Epoch 25/30\n",
      "42000/42000 [==============================] - 5s 127us/sample - loss: 0.0055 - accuracy: 0.9984\n",
      "Epoch 26/30\n",
      "42000/42000 [==============================] - 5s 127us/sample - loss: 0.0015 - accuracy: 0.9995\n",
      "Epoch 27/30\n",
      "42000/42000 [==============================] - 5s 128us/sample - loss: 0.0051 - accuracy: 0.9986\n",
      "Epoch 28/30\n",
      "42000/42000 [==============================] - 5s 128us/sample - loss: 0.0025 - accuracy: 0.9994\n",
      "Epoch 29/30\n",
      "42000/42000 [==============================] - 5s 127us/sample - loss: 0.0021 - accuracy: 0.9994\n",
      "Epoch 30/30\n",
      "42000/42000 [==============================] - 5s 128us/sample - loss: 0.0041 - accuracy: 0.9988\n"
     ]
    },
    {
     "data": {
      "text/plain": [
       "<tensorflow.python.keras.callbacks.History at 0x1241b6e3b88>"
      ]
     },
     "execution_count": 95,
     "metadata": {},
     "output_type": "execute_result"
    }
   ],
   "source": [
    "model3.compile(optimizer = 'adam',\n",
    "              loss = 'sparse_categorical_crossentropy',metrics=['accuracy'])\n",
    "\n",
    "model3.fit(training_images, training_labels, epochs=30)"
   ]
  },
  {
   "cell_type": "code",
   "execution_count": 103,
   "metadata": {},
   "outputs": [],
   "source": [
    "results = np.zeros( (testing.shape[0],10) ) \n",
    "\n",
    "results = results + model1.predict(testing_images)\n",
    "results = results + model2.predict(testing_images)\n",
    "results = results + model3.predict(testing_images)\n",
    "\n",
    "results = np.argmax(results,axis = 1)\n",
    "results = pd.Series(results,name=\"Label\")\n",
    "submission = pd.concat([pd.Series(range(1,28001),name = \"ImageId\"),results],axis = 1)\n"
   ]
  },
  {
   "cell_type": "code",
   "execution_count": 105,
   "metadata": {},
   "outputs": [],
   "source": [
    "submission.to_csv(\"ENSEMBLE.csv\",index=False)"
   ]
  },
  {
   "cell_type": "code",
   "execution_count": null,
   "metadata": {},
   "outputs": [],
   "source": []
  }
 ],
 "metadata": {
  "kernelspec": {
   "display_name": "Python 3",
   "language": "python",
   "name": "python3"
  },
  "language_info": {
   "codemirror_mode": {
    "name": "ipython",
    "version": 3
   },
   "file_extension": ".py",
   "mimetype": "text/x-python",
   "name": "python",
   "nbconvert_exporter": "python",
   "pygments_lexer": "ipython3",
   "version": "3.7.4"
  }
 },
 "nbformat": 4,
 "nbformat_minor": 2
}
