{
 "cells": [
  {
   "cell_type": "code",
   "execution_count": 11,
   "metadata": {},
   "outputs": [],
   "source": [
    "import pandas as pd\n",
    "import numpy as np\n",
    "import keras\n",
    "from keras.applications.vgg16 import VGG16\n",
    "from keras.applications.vgg19 import VGG19\n",
    "from keras.applications.mobilenet import MobileNet\n",
    "from keras.preprocessing import image\n",
    "from keras.applications.vgg16 import preprocess_input, decode_predictions\n",
    "from keras.layers import Dense, Activation, Flatten, merge,Input, MaxPooling2D\n",
    "from keras.models import Model, Sequential\n",
    "from keras.utils import np_utils\n",
    "from keras import backend as K\n",
    "\n",
    "from keras.layers import *\n",
    "from keras.callbacks import *\n",
    "import os\n",
    "import glob\n",
    "import tensorflow as tf"
   ]
  },
  {
   "cell_type": "code",
   "execution_count": 2,
   "metadata": {},
   "outputs": [],
   "source": [
    "training=pd.read_csv('kaggle_mnist/train.csv')"
   ]
  },
  {
   "cell_type": "code",
   "execution_count": 3,
   "metadata": {},
   "outputs": [],
   "source": [
    "training_labels=training['label'].values\n",
    "training_images=training.drop('label',axis=1).values"
   ]
  },
  {
   "cell_type": "code",
   "execution_count": 4,
   "metadata": {},
   "outputs": [],
   "source": [
    "training_images = training_images"
   ]
  },
  {
   "cell_type": "code",
   "execution_count": 5,
   "metadata": {},
   "outputs": [],
   "source": [
    "testing=pd.read_csv('kaggle_mnist/test.csv')\n",
    "testing_images=testing.values\n",
    "testing_images=testing_images.reshape(28000,28,28,1)/255.0"
   ]
  },
  {
   "cell_type": "code",
   "execution_count": 6,
   "metadata": {},
   "outputs": [],
   "source": [
    "training_images=training_images.reshape(42000,28,28,1)"
   ]
  },
  {
   "cell_type": "code",
   "execution_count": 41,
   "metadata": {},
   "outputs": [],
   "source": [
    "from keras.preprocessing.image import ImageDataGenerator\n",
    "datagen = ImageDataGenerator(\n",
    "    rotation_range=15,\n",
    "    zoom_range=0.1,\n",
    "    width_shift_range=0.15,\n",
    "    height_shift_range=0.15,\n",
    "    shear_range=0.1,\n",
    "    rescale=1./255,\n",
    "#     fill_mode='nearest',\n",
    "    validation_split=0.2)"
   ]
  },
  {
   "cell_type": "code",
   "execution_count": 38,
   "metadata": {},
   "outputs": [],
   "source": [
    "model = Sequential()\n",
    "\n",
    "model.add(Conv2D(64, kernel_size = 3, activation='relu', input_shape = (28, 28, 1)))\n",
    "model.add(BatchNormalization())\n",
    "model.add(Conv2D(64, kernel_size = 3, activation='relu'))\n",
    "model.add(BatchNormalization())\n",
    "model.add(MaxPooling2D((2,2)))\n",
    "model.add(Dropout(0.4))\n",
    "\n",
    "model.add(Conv2D(128, kernel_size = 3, activation='relu'))\n",
    "model.add(BatchNormalization())\n",
    "model.add(Conv2D(128, kernel_size = 3, activation='relu'))\n",
    "model.add(BatchNormalization())\n",
    "model.add(MaxPooling2D((2,2)))\n",
    "model.add(Dropout(0.4))\n",
    "\n",
    "# model.add(Conv2D(128, kernel_size = 2, activation='relu'))\n",
    "# model.add(BatchNormalization())\n",
    "model.add(Flatten())\n",
    "model.add(BatchNormalization())\n",
    "model.add(Dropout(0.5))\n",
    "model.add(Dense(128,activation='relu'))\n",
    "model.add(BatchNormalization())\n",
    "model.add(Dropout(0.5))\n",
    "model.add(Dense(128,activation='relu'))\n",
    "model.add(BatchNormalization())\n",
    "model.add(Dropout(0.5))\n",
    "model.add(Dense(10, activation='softmax'))"
   ]
  },
  {
   "cell_type": "code",
   "execution_count": 39,
   "metadata": {},
   "outputs": [
    {
     "name": "stdout",
     "output_type": "stream",
     "text": [
      "Model: \"sequential_9\"\n",
      "_________________________________________________________________\n",
      "Layer (type)                 Output Shape              Param #   \n",
      "=================================================================\n",
      "conv2d_38 (Conv2D)           (None, 26, 26, 64)        640       \n",
      "_________________________________________________________________\n",
      "batch_normalization_41 (Batc (None, 26, 26, 64)        256       \n",
      "_________________________________________________________________\n",
      "conv2d_39 (Conv2D)           (None, 24, 24, 64)        36928     \n",
      "_________________________________________________________________\n",
      "batch_normalization_42 (Batc (None, 24, 24, 64)        256       \n",
      "_________________________________________________________________\n",
      "max_pooling2d_13 (MaxPooling (None, 12, 12, 64)        0         \n",
      "_________________________________________________________________\n",
      "dropout_26 (Dropout)         (None, 12, 12, 64)        0         \n",
      "_________________________________________________________________\n",
      "conv2d_40 (Conv2D)           (None, 10, 10, 128)       73856     \n",
      "_________________________________________________________________\n",
      "batch_normalization_43 (Batc (None, 10, 10, 128)       512       \n",
      "_________________________________________________________________\n",
      "conv2d_41 (Conv2D)           (None, 8, 8, 128)         147584    \n",
      "_________________________________________________________________\n",
      "batch_normalization_44 (Batc (None, 8, 8, 128)         512       \n",
      "_________________________________________________________________\n",
      "max_pooling2d_14 (MaxPooling (None, 4, 4, 128)         0         \n",
      "_________________________________________________________________\n",
      "dropout_27 (Dropout)         (None, 4, 4, 128)         0         \n",
      "_________________________________________________________________\n",
      "flatten_9 (Flatten)          (None, 2048)              0         \n",
      "_________________________________________________________________\n",
      "batch_normalization_45 (Batc (None, 2048)              8192      \n",
      "_________________________________________________________________\n",
      "dropout_28 (Dropout)         (None, 2048)              0         \n",
      "_________________________________________________________________\n",
      "dense_10 (Dense)             (None, 128)               262272    \n",
      "_________________________________________________________________\n",
      "batch_normalization_46 (Batc (None, 128)               512       \n",
      "_________________________________________________________________\n",
      "dropout_29 (Dropout)         (None, 128)               0         \n",
      "_________________________________________________________________\n",
      "dense_11 (Dense)             (None, 128)               16512     \n",
      "_________________________________________________________________\n",
      "batch_normalization_47 (Batc (None, 128)               512       \n",
      "_________________________________________________________________\n",
      "dropout_30 (Dropout)         (None, 128)               0         \n",
      "_________________________________________________________________\n",
      "dense_12 (Dense)             (None, 10)                1290      \n",
      "=================================================================\n",
      "Total params: 549,834\n",
      "Trainable params: 544,458\n",
      "Non-trainable params: 5,376\n",
      "_________________________________________________________________\n"
     ]
    }
   ],
   "source": [
    "model.summary()"
   ]
  },
  {
   "cell_type": "code",
   "execution_count": 26,
   "metadata": {},
   "outputs": [],
   "source": [
    "results = np.zeros( (testing.shape[0],10) )"
   ]
  },
  {
   "cell_type": "code",
   "execution_count": 27,
   "metadata": {},
   "outputs": [],
   "source": [
    "annealer = LearningRateScheduler(lambda x: 1e-3 * 0.95 ** x)\n"
   ]
  },
  {
   "cell_type": "code",
   "execution_count": 42,
   "metadata": {},
   "outputs": [
    {
     "name": "stdout",
     "output_type": "stream",
     "text": [
      "Epoch 1/40\n",
      " - 12s - loss: 0.0887 - accuracy: 0.9744 - val_loss: 0.0022 - val_accuracy: 0.9875\n",
      "Epoch 2/40\n",
      " - 11s - loss: 0.0905 - accuracy: 0.9743 - val_loss: 0.0015 - val_accuracy: 0.9867\n",
      "Epoch 3/40\n",
      " - 11s - loss: 0.0891 - accuracy: 0.9745 - val_loss: 0.0100 - val_accuracy: 0.9873\n",
      "Epoch 4/40\n",
      " - 11s - loss: 0.0876 - accuracy: 0.9758 - val_loss: 0.0031 - val_accuracy: 0.9883\n",
      "Epoch 5/40\n",
      " - 11s - loss: 0.0820 - accuracy: 0.9765 - val_loss: 0.0378 - val_accuracy: 0.9887\n",
      "Epoch 6/40\n",
      " - 11s - loss: 0.0782 - accuracy: 0.9777 - val_loss: 0.0887 - val_accuracy: 0.9873\n",
      "Epoch 7/40\n",
      " - 12s - loss: 0.0718 - accuracy: 0.9796 - val_loss: 0.0606 - val_accuracy: 0.9886\n",
      "Epoch 8/40\n",
      " - 12s - loss: 0.0748 - accuracy: 0.9784 - val_loss: 0.0022 - val_accuracy: 0.9892\n",
      "Epoch 9/40\n",
      " - 12s - loss: 0.0736 - accuracy: 0.9793 - val_loss: 0.0223 - val_accuracy: 0.9898\n",
      "Epoch 10/40\n",
      " - 12s - loss: 0.0683 - accuracy: 0.9799 - val_loss: 0.0018 - val_accuracy: 0.9907\n",
      "Epoch 11/40\n",
      " - 11s - loss: 0.0669 - accuracy: 0.9807 - val_loss: 0.0225 - val_accuracy: 0.9906\n",
      "Epoch 12/40\n",
      " - 11s - loss: 0.0631 - accuracy: 0.9823 - val_loss: 0.0049 - val_accuracy: 0.9890\n",
      "Epoch 13/40\n",
      " - 11s - loss: 0.0632 - accuracy: 0.9823 - val_loss: 0.0022 - val_accuracy: 0.9898\n",
      "Epoch 14/40\n",
      " - 12s - loss: 0.0641 - accuracy: 0.9824 - val_loss: 0.0032 - val_accuracy: 0.9907\n",
      "Epoch 15/40\n",
      " - 12s - loss: 0.0600 - accuracy: 0.9827 - val_loss: 0.0367 - val_accuracy: 0.9912\n",
      "Epoch 16/40\n",
      " - 12s - loss: 0.0618 - accuracy: 0.9829 - val_loss: 0.0065 - val_accuracy: 0.9907\n",
      "Epoch 17/40\n",
      " - 12s - loss: 0.0563 - accuracy: 0.9841 - val_loss: 0.0718 - val_accuracy: 0.9902\n",
      "Epoch 18/40\n",
      " - 11s - loss: 0.0611 - accuracy: 0.9819 - val_loss: 7.1592e-04 - val_accuracy: 0.9915\n",
      "Epoch 19/40\n",
      " - 12s - loss: 0.0543 - accuracy: 0.9855 - val_loss: 0.0432 - val_accuracy: 0.9918\n",
      "Epoch 20/40\n",
      " - 11s - loss: 0.0534 - accuracy: 0.9850 - val_loss: 0.0011 - val_accuracy: 0.9918\n",
      "Epoch 21/40\n",
      " - 11s - loss: 0.0539 - accuracy: 0.9848 - val_loss: 0.0029 - val_accuracy: 0.9929\n",
      "Epoch 22/40\n",
      " - 12s - loss: 0.0492 - accuracy: 0.9864 - val_loss: 0.0338 - val_accuracy: 0.9926\n",
      "Epoch 23/40\n",
      " - 11s - loss: 0.0522 - accuracy: 0.9857 - val_loss: 0.0734 - val_accuracy: 0.9919\n",
      "Epoch 24/40\n",
      " - 11s - loss: 0.0511 - accuracy: 0.9859 - val_loss: 0.0018 - val_accuracy: 0.9927\n",
      "Epoch 25/40\n",
      " - 11s - loss: 0.0472 - accuracy: 0.9860 - val_loss: 6.3707e-04 - val_accuracy: 0.9927\n",
      "Epoch 26/40\n",
      " - 11s - loss: 0.0455 - accuracy: 0.9870 - val_loss: 0.0300 - val_accuracy: 0.9925\n",
      "Epoch 27/40\n",
      " - 11s - loss: 0.0443 - accuracy: 0.9871 - val_loss: 2.0752e-04 - val_accuracy: 0.9936\n",
      "Epoch 28/40\n",
      " - 11s - loss: 0.0480 - accuracy: 0.9866 - val_loss: 0.0070 - val_accuracy: 0.9926\n",
      "Epoch 29/40\n",
      " - 11s - loss: 0.0463 - accuracy: 0.9868 - val_loss: 0.0016 - val_accuracy: 0.9925\n",
      "Epoch 30/40\n",
      " - 11s - loss: 0.0441 - accuracy: 0.9869 - val_loss: 0.0021 - val_accuracy: 0.9925\n",
      "Epoch 31/40\n",
      " - 12s - loss: 0.0470 - accuracy: 0.9868 - val_loss: 2.6036e-04 - val_accuracy: 0.9924\n",
      "Epoch 32/40\n",
      " - 13s - loss: 0.0435 - accuracy: 0.9876 - val_loss: 0.0757 - val_accuracy: 0.9926\n",
      "Epoch 33/40\n",
      " - 12s - loss: 0.0432 - accuracy: 0.9881 - val_loss: 0.1264 - val_accuracy: 0.9927\n",
      "Epoch 34/40\n",
      " - 12s - loss: 0.0435 - accuracy: 0.9879 - val_loss: 0.0154 - val_accuracy: 0.9926\n",
      "Epoch 35/40\n",
      " - 11s - loss: 0.0427 - accuracy: 0.9882 - val_loss: 0.0733 - val_accuracy: 0.9920\n",
      "Epoch 36/40\n",
      " - 11s - loss: 0.0423 - accuracy: 0.9881 - val_loss: 0.0345 - val_accuracy: 0.9930\n",
      "Epoch 37/40\n",
      " - 11s - loss: 0.0428 - accuracy: 0.9885 - val_loss: 8.1817e-04 - val_accuracy: 0.9939\n",
      "Epoch 38/40\n",
      " - 11s - loss: 0.0394 - accuracy: 0.9893 - val_loss: 0.0017 - val_accuracy: 0.9927\n",
      "Epoch 39/40\n",
      " - 11s - loss: 0.0403 - accuracy: 0.9883 - val_loss: 0.0297 - val_accuracy: 0.9927\n",
      "Epoch 40/40\n",
      " - 11s - loss: 0.0408 - accuracy: 0.9884 - val_loss: 0.0043 - val_accuracy: 0.9919\n"
     ]
    },
    {
     "data": {
      "text/plain": [
       "<keras.callbacks.callbacks.History at 0x2448294e048>"
      ]
     },
     "execution_count": 42,
     "metadata": {},
     "output_type": "execute_result"
    }
   ],
   "source": [
    "model.compile(optimizer = 'adam',\n",
    "              loss = 'sparse_categorical_crossentropy',metrics=['accuracy'])\n",
    "\n",
    "\n",
    "model.fit_generator(datagen.flow(training_images, training_labels, batch_size=64,subset='training'),\n",
    "                    validation_data=datagen.flow(training_images, training_labels, batch_size=128,subset='validation'),\n",
    "                    epochs=40,callbacks=[annealer],verbose=2)\n",
    "\n",
    "\n"
   ]
  },
  {
   "cell_type": "code",
   "execution_count": 43,
   "metadata": {},
   "outputs": [],
   "source": [
    "results = results + model.predict(testing_images)\n"
   ]
  },
  {
   "cell_type": "code",
   "execution_count": 44,
   "metadata": {},
   "outputs": [],
   "source": [
    "results = np.argmax(results,axis = 1)\n",
    "results = pd.Series(results,name=\"Label\")\n",
    "submission = pd.concat([pd.Series(range(1,28001),name = \"ImageId\"),results],axis = 1)\n"
   ]
  },
  {
   "cell_type": "code",
   "execution_count": 45,
   "metadata": {},
   "outputs": [],
   "source": [
    "submission.to_csv(\"kaggle_mnist/cnn_annlear.csv\",index=False)"
   ]
  },
  {
   "cell_type": "code",
   "execution_count": null,
   "metadata": {},
   "outputs": [],
   "source": []
  }
 ],
 "metadata": {
  "kernelspec": {
   "display_name": "Python 3",
   "language": "python",
   "name": "python3"
  },
  "language_info": {
   "codemirror_mode": {
    "name": "ipython",
    "version": 3
   },
   "file_extension": ".py",
   "mimetype": "text/x-python",
   "name": "python",
   "nbconvert_exporter": "python",
   "pygments_lexer": "ipython3",
   "version": "3.7.4"
  }
 },
 "nbformat": 4,
 "nbformat_minor": 2
}
